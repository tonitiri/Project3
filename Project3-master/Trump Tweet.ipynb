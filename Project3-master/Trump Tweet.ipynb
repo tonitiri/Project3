{
 "cells": [
  {
   "cell_type": "code",
   "execution_count": 148,
   "metadata": {},
   "outputs": [],
   "source": [
    "import pandas as pd\n",
    "import numpy as np\n",
    "import matplotlib.pyplot as plt\n",
    "import seaborn as sns\n",
    "%matplotlib inline\n",
    "import os"
   ]
  },
  {
   "cell_type": "code",
   "execution_count": 149,
   "metadata": {},
   "outputs": [
    {
     "name": "stderr",
     "output_type": "stream",
     "text": [
      "C:\\Users\\Hailu\\OneDrive\\Documents\\PREWORK_HLS\\Anaconda\\lib\\site-packages\\IPython\\core\\interactiveshell.py:3049: DtypeWarning: Columns (48,49,50,52,343,344,345,346,347,348,349,350,351,352,353,354,355,356,357,358,359,360,361,362,363,364,365,366,367,368,369,370,371,372,373,374,375,376,377,378,379,380,381,382,383,384,385,386,387,388,389,390,391,392,393,394,395,396,397,398,399,400,401,402,403,404,405,406,407,408,409,410,411,412,413,414,415,416,417,418,419,420,421,422,423,424,425,426,427,428,429) have mixed types. Specify dtype option on import or set low_memory=False.\n",
      "  interactivity=interactivity, compiler=compiler, result=result)\n"
     ]
    }
   ],
   "source": [
    "df = pd.read_csv(os.path.join('..', 'Resources', '../22-Big-Data/Trump_tweet.csv'))\n",
    "df['polarity'] = df['is_quote_status'].apply(lambda x : 1 if x == 'TRUE' else 0)\n",
    "is_quote_status_names = ['TRUE', 'FALSE']"
   ]
  },
  {
   "cell_type": "code",
   "execution_count": 150,
   "metadata": {},
   "outputs": [
    {
     "data": {
      "text/html": [
       "<div>\n",
       "<style scoped>\n",
       "    .dataframe tbody tr th:only-of-type {\n",
       "        vertical-align: middle;\n",
       "    }\n",
       "\n",
       "    .dataframe tbody tr th {\n",
       "        vertical-align: top;\n",
       "    }\n",
       "\n",
       "    .dataframe thead th {\n",
       "        text-align: right;\n",
       "    }\n",
       "</style>\n",
       "<table border=\"1\" class=\"dataframe\">\n",
       "  <thead>\n",
       "    <tr style=\"text-align: right;\">\n",
       "      <th></th>\n",
       "      <th>favorited</th>\n",
       "      <th>contributors</th>\n",
       "      <th>truncated</th>\n",
       "      <th>is_quote_status</th>\n",
       "      <th>in_reply_to_status_id</th>\n",
       "      <th>user</th>\n",
       "      <th>geo</th>\n",
       "      <th>id</th>\n",
       "      <th>favorite_count</th>\n",
       "      <th>lang</th>\n",
       "      <th>...</th>\n",
       "      <th>Unnamed: 421</th>\n",
       "      <th>Unnamed: 422</th>\n",
       "      <th>Unnamed: 423</th>\n",
       "      <th>Unnamed: 424</th>\n",
       "      <th>Unnamed: 425</th>\n",
       "      <th>Unnamed: 426</th>\n",
       "      <th>Unnamed: 427</th>\n",
       "      <th>Unnamed: 428</th>\n",
       "      <th>Unnamed: 429</th>\n",
       "      <th>polarity</th>\n",
       "    </tr>\n",
       "  </thead>\n",
       "  <tbody>\n",
       "    <tr>\n",
       "      <th>0</th>\n",
       "      <td>False</td>\n",
       "      <td>NaN</td>\n",
       "      <td>False</td>\n",
       "      <td>False</td>\n",
       "      <td>NaN</td>\n",
       "      <td>{\\follow_request_sent\\\":false</td>\n",
       "      <td>\\\"has_extended_profile\\\":false</td>\n",
       "      <td>\\\"profile_use_background_image\\\":true</td>\n",
       "      <td>\\\"default_profile_image\\\":false</td>\n",
       "      <td>\\\"id\\\":25073877</td>\n",
       "      <td>...</td>\n",
       "      <td>NaN</td>\n",
       "      <td>NaN</td>\n",
       "      <td>NaN</td>\n",
       "      <td>NaN</td>\n",
       "      <td>NaN</td>\n",
       "      <td>NaN</td>\n",
       "      <td>NaN</td>\n",
       "      <td>NaN</td>\n",
       "      <td>NaN</td>\n",
       "      <td>0</td>\n",
       "    </tr>\n",
       "    <tr>\n",
       "      <th>1</th>\n",
       "      <td>False</td>\n",
       "      <td>NaN</td>\n",
       "      <td>False</td>\n",
       "      <td>False</td>\n",
       "      <td>9.480000e+17</td>\n",
       "      <td>{\\follow_request_sent\\\":false</td>\n",
       "      <td>\\\"has_extended_profile\\\":false</td>\n",
       "      <td>\\\"profile_use_background_image\\\":true</td>\n",
       "      <td>\\\"default_profile_image\\\":false</td>\n",
       "      <td>\\\"id\\\":25073877</td>\n",
       "      <td>...</td>\n",
       "      <td>NaN</td>\n",
       "      <td>NaN</td>\n",
       "      <td>NaN</td>\n",
       "      <td>NaN</td>\n",
       "      <td>NaN</td>\n",
       "      <td>NaN</td>\n",
       "      <td>NaN</td>\n",
       "      <td>NaN</td>\n",
       "      <td>NaN</td>\n",
       "      <td>0</td>\n",
       "    </tr>\n",
       "    <tr>\n",
       "      <th>2</th>\n",
       "      <td>False</td>\n",
       "      <td>NaN</td>\n",
       "      <td>False</td>\n",
       "      <td>False</td>\n",
       "      <td>NaN</td>\n",
       "      <td>{\\follow_request_sent\\\":false</td>\n",
       "      <td>\\\"has_extended_profile\\\":false</td>\n",
       "      <td>\\\"profile_use_background_image\\\":true</td>\n",
       "      <td>\\\"default_profile_image\\\":false</td>\n",
       "      <td>\\\"id\\\":25073877</td>\n",
       "      <td>...</td>\n",
       "      <td>NaN</td>\n",
       "      <td>NaN</td>\n",
       "      <td>NaN</td>\n",
       "      <td>NaN</td>\n",
       "      <td>NaN</td>\n",
       "      <td>NaN</td>\n",
       "      <td>NaN</td>\n",
       "      <td>NaN</td>\n",
       "      <td>NaN</td>\n",
       "      <td>0</td>\n",
       "    </tr>\n",
       "    <tr>\n",
       "      <th>3</th>\n",
       "      <td>False</td>\n",
       "      <td>NaN</td>\n",
       "      <td>False</td>\n",
       "      <td>False</td>\n",
       "      <td>NaN</td>\n",
       "      <td>{\\follow_request_sent\\\":false</td>\n",
       "      <td>\\\"has_extended_profile\\\":false</td>\n",
       "      <td>\\\"profile_use_background_image\\\":true</td>\n",
       "      <td>\\\"default_profile_image\\\":false</td>\n",
       "      <td>\\\"id\\\":25073877</td>\n",
       "      <td>...</td>\n",
       "      <td>NaN</td>\n",
       "      <td>NaN</td>\n",
       "      <td>NaN</td>\n",
       "      <td>NaN</td>\n",
       "      <td>NaN</td>\n",
       "      <td>NaN</td>\n",
       "      <td>NaN</td>\n",
       "      <td>NaN</td>\n",
       "      <td>NaN</td>\n",
       "      <td>0</td>\n",
       "    </tr>\n",
       "    <tr>\n",
       "      <th>4</th>\n",
       "      <td>False</td>\n",
       "      <td>NaN</td>\n",
       "      <td>False</td>\n",
       "      <td>False</td>\n",
       "      <td>NaN</td>\n",
       "      <td>{\\follow_request_sent\\\":false</td>\n",
       "      <td>\\\"has_extended_profile\\\":false</td>\n",
       "      <td>\\\"profile_use_background_image\\\":true</td>\n",
       "      <td>\\\"default_profile_image\\\":false</td>\n",
       "      <td>\\\"id\\\":25073877</td>\n",
       "      <td>...</td>\n",
       "      <td>NaN</td>\n",
       "      <td>NaN</td>\n",
       "      <td>NaN</td>\n",
       "      <td>NaN</td>\n",
       "      <td>NaN</td>\n",
       "      <td>NaN</td>\n",
       "      <td>NaN</td>\n",
       "      <td>NaN</td>\n",
       "      <td>NaN</td>\n",
       "      <td>0</td>\n",
       "    </tr>\n",
       "  </tbody>\n",
       "</table>\n",
       "<p>5 rows × 431 columns</p>\n",
       "</div>"
      ],
      "text/plain": [
       "   favorited  contributors  truncated  is_quote_status  in_reply_to_status_id  \\\n",
       "0      False           NaN      False            False                    NaN   \n",
       "1      False           NaN      False            False           9.480000e+17   \n",
       "2      False           NaN      False            False                    NaN   \n",
       "3      False           NaN      False            False                    NaN   \n",
       "4      False           NaN      False            False                    NaN   \n",
       "\n",
       "                            user                             geo  \\\n",
       "0  {\\follow_request_sent\\\":false  \\\"has_extended_profile\\\":false   \n",
       "1  {\\follow_request_sent\\\":false  \\\"has_extended_profile\\\":false   \n",
       "2  {\\follow_request_sent\\\":false  \\\"has_extended_profile\\\":false   \n",
       "3  {\\follow_request_sent\\\":false  \\\"has_extended_profile\\\":false   \n",
       "4  {\\follow_request_sent\\\":false  \\\"has_extended_profile\\\":false   \n",
       "\n",
       "                                      id                   favorite_count  \\\n",
       "0  \\\"profile_use_background_image\\\":true  \\\"default_profile_image\\\":false   \n",
       "1  \\\"profile_use_background_image\\\":true  \\\"default_profile_image\\\":false   \n",
       "2  \\\"profile_use_background_image\\\":true  \\\"default_profile_image\\\":false   \n",
       "3  \\\"profile_use_background_image\\\":true  \\\"default_profile_image\\\":false   \n",
       "4  \\\"profile_use_background_image\\\":true  \\\"default_profile_image\\\":false   \n",
       "\n",
       "              lang  ... Unnamed: 421 Unnamed: 422 Unnamed: 423 Unnamed: 424  \\\n",
       "0  \\\"id\\\":25073877  ...          NaN          NaN          NaN          NaN   \n",
       "1  \\\"id\\\":25073877  ...          NaN          NaN          NaN          NaN   \n",
       "2  \\\"id\\\":25073877  ...          NaN          NaN          NaN          NaN   \n",
       "3  \\\"id\\\":25073877  ...          NaN          NaN          NaN          NaN   \n",
       "4  \\\"id\\\":25073877  ...          NaN          NaN          NaN          NaN   \n",
       "\n",
       "  Unnamed: 425 Unnamed: 426 Unnamed: 427 Unnamed: 428 Unnamed: 429 polarity  \n",
       "0          NaN          NaN          NaN          NaN          NaN        0  \n",
       "1          NaN          NaN          NaN          NaN          NaN        0  \n",
       "2          NaN          NaN          NaN          NaN          NaN        0  \n",
       "3          NaN          NaN          NaN          NaN          NaN        0  \n",
       "4          NaN          NaN          NaN          NaN          NaN        0  \n",
       "\n",
       "[5 rows x 431 columns]"
      ]
     },
     "execution_count": 150,
     "metadata": {},
     "output_type": "execute_result"
    }
   ],
   "source": [
    "df.head()"
   ]
  },
  {
   "cell_type": "code",
   "execution_count": 151,
   "metadata": {},
   "outputs": [
    {
     "data": {
      "image/png": "[encoded data removed]",
      "text/plain": [
       "<Figure size 720x576 with 1 Axes>"
      ]
     },
     "metadata": {
      "needs_background": "light"
     },
     "output_type": "display_data"
    }
   ],
   "source": [
    "fig, ax = plt.subplots(figsize=(10, 8))\n",
    "sns.set(style=\"whitegrid\")\n",
    "ax = sns.countplot(x=\"is_quote_status\", data=df)"
   ]
  },
  {
   "cell_type": "markdown",
   "metadata": {},
   "source": [
    "Preprocessing through Tokenizing and using TFIDF"
   ]
  },
  {
   "cell_type": "code",
   "execution_count": 152,
   "metadata": {},
   "outputs": [],
   "source": [
    "### nltk and string transformations\n",
    "from nltk import tokenize\n",
    "from nltk.sentiment.vader import SentimentIntensityAnalyzer\n",
    "import string\n",
    "\n",
    "### sklearn\n",
    "from sklearn.model_selection import train_test_split\n",
    "\n",
    "from sklearn.feature_extraction.text import TfidfVectorizer\n",
    "from sklearn.naive_bayes import MultinomialNB\n",
    "from sklearn.ensemble import RandomForestClassifier\n",
    "\n",
    "from sklearn.metrics import confusion_matrix, accuracy_score\n",
    "\n",
    "### numpy for seed.  Good practice for reproducibility, not something we touched on but worth wild to look further.\n",
    "import numpy as np\n",
    "from numpy import random\n",
    "\n",
    "SEED = 1234\n",
    "\n",
    "random.seed(SEED)"
   ]
  },
  {
   "cell_type": "markdown",
   "metadata": {},
   "source": [
    "Before anything we need to take raw text and convert to numerical inputs for the machine learning algorithms.\n",
    "\n",
    "The first step is to split the sentences into words, we will do this through a method of Tokenization (or splitting)."
   ]
  },
  {
   "cell_type": "code",
   "execution_count": 154,
   "metadata": {},
   "outputs": [
    {
     "name": "stdout",
     "output_type": "stream",
     "text": [
      "0    [description45th, president, of, the, united, ...\n",
      "1    [description45th, president, of, the, united, ...\n",
      "2    [description45th, president, of, the, united, ...\n",
      "3    [description45th, president, of, the, united, ...\n",
      "4    [description45th, president, of, the, united, ...\n",
      "Name: text, dtype: object\n"
     ]
    },
    {
     "data": {
      "text/plain": [
       "['\\\\\"description\\\\\":\\\\\"45th President of the United States of America\\\\\\\\ud83c\\\\\\\\uddfa\\\\\\\\ud83c\\\\\\\\uddf8\\\\\"',\n",
       " '\\\\\"description\\\\\":\\\\\"45th President of the United States of America\\\\\\\\ud83c\\\\\\\\uddfa\\\\\\\\ud83c\\\\\\\\uddf8\\\\\"',\n",
       " '\\\\\"description\\\\\":\\\\\"45th President of the United States of America\\\\\\\\ud83c\\\\\\\\uddfa\\\\\\\\ud83c\\\\\\\\uddf8\\\\\"',\n",
       " '\\\\\"description\\\\\":\\\\\"45th President of the United States of America\\\\\\\\ud83c\\\\\\\\uddfa\\\\\\\\ud83c\\\\\\\\uddf8\\\\\"',\n",
       " '\\\\\"description\\\\\":\\\\\"45th President of the United States of America\\\\\\\\ud83c\\\\\\\\uddfa\\\\\\\\ud83c\\\\\\\\uddf8\\\\\"']"
      ]
     },
     "execution_count": 154,
     "metadata": {},
     "output_type": "execute_result"
    }
   ],
   "source": [
    "### Define simple space tokenizer\n",
    "translator = str.maketrans('', '', string.punctuation)\n",
    "tk = tokenize.simple.SpaceTokenizer()\n",
    "\n",
    "def simple_tokenizer(x):\n",
    "    x = x.translate(translator).strip().lower()\n",
    "    return tk.tokenize(x)\n",
    "\n",
    "### Quick look at what the tokenizer produces\n",
    "print(df['text'].head().apply(lambda x : simple_tokenizer(x)))\n",
    "\n",
    "### Developing the corpus or list of sentences for processing later\n",
    "corpus = df['text'].tolist()\n",
    "corpus[0:5]"
   ]
  },
  {
   "cell_type": "markdown",
   "metadata": {},
   "source": [
    "We will now use the tokenizer within the TFIDF vectorizer. The words might sound intimidating yet simply yet in reality basically we just counting the number of times a words occur within the sentence relative to the whole sample (sometimes called a corpus)."
   ]
  },
  {
   "cell_type": "code",
   "execution_count": 155,
   "metadata": {},
   "outputs": [
    {
     "name": "stdout",
     "output_type": "stream",
     "text": [
      "Vector features :  ['americaud83cuddfaud83cuddf8', 'description45th', 'friendscount45', 'geoenabledtrue', 'notificationstrue', 'president', 'profilebackgroundimageurlhttpshttpspbstwimgcomprofilebackgroundimages530021613trumpscotland43of70ccjpg', 'states', 'statusescount35732', 'statusescount35733', 'statusescount35735', 'statusescount35736', 'statusescount35740', 'statusescount35742', 'statusescount35748', 'statusescount35756', 'statusescount35758', 'statusescount35762', 'statusescount35764', 'statusescount35766']\n",
      "Vector shape/size :  (2605, 150)\n"
     ]
    }
   ],
   "source": [
    "vectorizer = TfidfVectorizer(tokenizer=simple_tokenizer, stop_words='english')\n",
    "tf = vectorizer.fit(corpus)\n",
    "X = tf.transform(corpus)\n",
    "\n",
    "### Combining result of TFIDF with `target` columns\n",
    "full_df = pd.concat([pd.DataFrame(X.toarray()), df['polarity']], axis=1)\n",
    "print(\"Vector features : \", vectorizer.get_feature_names()[0:20])\n",
    "print(\"Vector shape/size : \",X.shape)"
   ]
  },
  {
   "cell_type": "markdown",
   "metadata": {},
   "source": [
    "Splitting data into a train and test datasets, using the predefined SEED from numpy for the split."
   ]
  },
  {
   "cell_type": "code",
   "execution_count": 156,
   "metadata": {},
   "outputs": [
    {
     "name": "stdout",
     "output_type": "stream",
     "text": [
      "(2084, 150) (2084,)\n"
     ]
    }
   ],
   "source": [
    "target_col = 'polarity'\n",
    "y = df[target_col]\n",
    "X_train, X_test, y_train, y_test = train_test_split(full_df.drop(target_col, axis=1)\n",
    "                                                    ,y, test_size=0.20, random_state=SEED)\n",
    "print(X_train.shape, y_train.shape)"
   ]
  },
  {
   "cell_type": "markdown",
   "metadata": {},
   "source": [
    "Model Training and Analysis\n",
    "Helper Function : This is a simple helper function modified from the sklearn documentation. Example below. Parameters required are the actual labels (y_true), the predicted labels (y_pred), classes in a list like [\"good\", \"bad\", \"ugly\"]. Options are using normalize to get percentages, include_cm to print off the raw confusion matrix, and fig_size for the size of the plot."
   ]
  },
  {
   "cell_type": "code",
   "execution_count": 157,
   "metadata": {},
   "outputs": [],
   "source": [
    "def plot_confusion_matrix(y_true, y_pred, classes,\n",
    "                          normalize=False,\n",
    "                          title=None,\n",
    "                          cmap=plt.cm.Blues,\n",
    "                          include_cm=False,\n",
    "                          fig_size=(10, 8)):\n",
    "    \"\"\"\n",
    "    This function prints and plots the confusion matrix.\n",
    "    Normalization can be applied by setting `normalize=True`.\n",
    "    \"\"\"\n",
    "    from sklearn.utils.multiclass import unique_labels\n",
    "    \n",
    "    if not title:\n",
    "        if normalize:\n",
    "            title = 'Normalized confusion matrix'\n",
    "        else:\n",
    "            title = 'Confusion matrix, without normalization'\n",
    "\n",
    "    # Compute confusion matrix\n",
    "    cm = confusion_matrix(y_true, y_pred)\n",
    "\n",
    "    if normalize:\n",
    "        cm = cm.astype('float') / cm.sum(axis=1)[:, np.newaxis]\n",
    "\n",
    "    if include_cm:\n",
    "        print(cm)\n",
    "\n",
    "    fig, ax = plt.subplots(figsize=fig_size)\n",
    "    ax.grid(False)\n",
    "    im = ax.imshow(cm, interpolation='nearest', cmap=cmap)\n",
    "    ax.figure.colorbar(im, ax=ax)\n",
    "    # We want to show all ticks...\n",
    "    ax.set(xticks=np.arange(cm.shape[1]),\n",
    "           yticks=np.arange(cm.shape[0]),\n",
    "           # ... and label them with the respective list entries\n",
    "           xticklabels=classes, yticklabels=classes,\n",
    "           title=title,\n",
    "           ylabel='True label',\n",
    "           xlabel='Predicted label')\n",
    "\n",
    "    # Rotate the tick labels and set their alignment.\n",
    "    plt.setp(ax.get_xticklabels(), rotation=45, ha=\"right\",\n",
    "             rotation_mode=\"anchor\")\n",
    "\n",
    "    # Loop over data dimensions and create text annotations.\n",
    "    fmt = '.2f' if normalize else 'd'\n",
    "    thresh = cm.max() / 2.\n",
    "    for i in range(cm.shape[0]):\n",
    "        for j in range(cm.shape[1]):\n",
    "            ax.text(j, i, format(cm[i, j], fmt),\n",
    "                    ha=\"center\", va=\"center\",\n",
    "                    color=\"white\" if cm[i, j] > thresh else \"black\")\n",
    "    fig.tight_layout()\n",
    "    return ax"
   ]
  },
  {
   "cell_type": "markdown",
   "metadata": {},
   "source": [
    "Lets use a base model to get a baseline prediction."
   ]
  },
  {
   "cell_type": "code",
   "execution_count": 158,
   "metadata": {},
   "outputs": [
    {
     "name": "stderr",
     "output_type": "stream",
     "text": [
      "C:\\Users\\Hailu\\OneDrive\\Documents\\PREWORK_HLS\\Anaconda\\lib\\site-packages\\sklearn\\naive_bayes.py:465: RuntimeWarning: divide by zero encountered in log\n",
      "  self.class_log_prior_ = (np.log(self.class_count_) -\n"
     ]
    }
   ],
   "source": [
    "clf = MultinomialNB().fit(X_train, y_train)\n",
    "y_pred = clf.predict(X_test)"
   ]
  },
  {
   "cell_type": "code",
   "execution_count": 159,
   "metadata": {},
   "outputs": [
    {
     "data": {
      "text/plain": [
       "array([[521]], dtype=int64)"
      ]
     },
     "execution_count": 159,
     "metadata": {},
     "output_type": "execute_result"
    }
   ],
   "source": [
    "confusion_matrix(y_test, y_pred)"
   ]
  },
  {
   "cell_type": "code",
   "execution_count": 160,
   "metadata": {},
   "outputs": [
    {
     "name": "stdout",
     "output_type": "stream",
     "text": [
      "Accuracy of base model is 100.00 %\n"
     ]
    }
   ],
   "source": [
    "print(\"Accuracy of base model is {:.2f} %\".format(accuracy_score(y_test, y_pred)*100))"
   ]
  },
  {
   "cell_type": "code",
   "execution_count": 175,
   "metadata": {},
   "outputs": [
    {
     "data": {
      "image/png": "[encoded data removed]",
      "text/plain": [
       "<Figure size 720x576 with 2 Axes>"
      ]
     },
     "metadata": {},
     "output_type": "display_data"
    }
   ],
   "source": [
    "### Plot confusion matrix to get a feel for model ability to predict correct label.\n",
    "plot_confusion_matrix(y_test, y_pred, classes=is_quote_status_names, normalize=True,\n",
    "                      title='Confusion matrix, with normalization', fig_size=(10, 8));"
   ]
  },
  {
   "cell_type": "markdown",
   "metadata": {},
   "source": [
    "Another try, let's try out using a Random Forest model."
   ]
  },
  {
   "cell_type": "code",
   "execution_count": 162,
   "metadata": {},
   "outputs": [],
   "source": [
    "clf = RandomForestClassifier(n_estimators=200, max_depth=8, random_state=SEED).fit(X_train, y_train)\n",
    "y_pred = clf.predict(X_test)"
   ]
  },
  {
   "cell_type": "code",
   "execution_count": 163,
   "metadata": {},
   "outputs": [
    {
     "data": {
      "text/plain": [
       "array([[521]], dtype=int64)"
      ]
     },
     "execution_count": 163,
     "metadata": {},
     "output_type": "execute_result"
    }
   ],
   "source": [
    "confusion_matrix(y_test, y_pred)"
   ]
  },
  {
   "cell_type": "code",
   "execution_count": 164,
   "metadata": {},
   "outputs": [
    {
     "name": "stdout",
     "output_type": "stream",
     "text": [
      "Accuracy of base model is 100.00 %\n"
     ]
    }
   ],
   "source": [
    "print(\"Accuracy of base model is {:.2f} %\".format(accuracy_score(y_test, y_pred)*100))"
   ]
  },
  {
   "cell_type": "code",
   "execution_count": 174,
   "metadata": {},
   "outputs": [
    {
     "data": {
      "image/png": "[encoded data removed]",
      "text/plain": [
       "<Figure size 720x576 with 2 Axes>"
      ]
     },
     "metadata": {},
     "output_type": "display_data"
    }
   ],
   "source": [
    "plot_confusion_matrix(y_test, y_pred, classes=is_quote_status_names, normalize=True,\n",
    "                      title='Confusion matrix, with normalization', fig_size=(10, 8));"
   ]
  },
  {
   "cell_type": "markdown",
   "metadata": {},
   "source": [
    "Single Input Examples"
   ]
  },
  {
   "cell_type": "code",
   "execution_count": 166,
   "metadata": {},
   "outputs": [
    {
     "name": "stdout",
     "output_type": "stream",
     "text": [
      "Review was TRUE\n"
     ]
    }
   ],
   "source": [
    "review = \"Iran is failing at every level despite the terrible deal made with them by the Obama Administration. The great Iranian people have been repressed for many years. They are hungry for food &amp; for freedom. Along with human rights, the wealth of Iran is being looted. TIME FOR CHANGE!\"\n",
    "\n",
    "### Transform Review\n",
    "review_transformed = tf.transform([review])\n",
    "\n",
    "### Make Prediction\n",
    "pred = clf.predict(review_transformed)\n",
    "\n",
    "### Using the defined `class_names` get the predicted Polarity ( negative/positive )\n",
    "print(\"Review was {}\".format(is_quote_status_names[pred[0]]))"
   ]
  },
  {
   "cell_type": "code",
   "execution_count": 167,
   "metadata": {},
   "outputs": [
    {
     "name": "stdout",
     "output_type": "stream",
     "text": [
      "Review was TRUE\n"
     ]
    }
   ],
   "source": [
    "review = \"The United States has foolishly given Pakistan more than 33 billion dollars in aid over the last 15 years, and they have given us nothing but lies &amp; deceit, thinking of our leaders as fools. They give safe haven to the terrorists we hunt in Afghanistan, with little help. No more!\"\n",
    "\n",
    "### Transform Review\n",
    "review_transformed = tf.transform([review])\n",
    "\n",
    "### Make Prediction\n",
    "pred = clf.predict(review_transformed)\n",
    "\n",
    "### Using the defined `class_names` get the predicted Polarity ( negative/positive )\n",
    "print(\"Review was {}\".format(is_quote_status_names[pred[0]]))"
   ]
  },
  {
   "cell_type": "markdown",
   "metadata": {},
   "source": [
    "Extra Extra Content : Comparing Multiple Models Side by Side"
   ]
  },
  {
   "cell_type": "code",
   "execution_count": 178,
   "metadata": {},
   "outputs": [
    {
     "ename": "NameError",
     "evalue": "name 'Y' is not defined",
     "output_type": "error",
     "traceback": [
      "\u001b[1;31m---------------------------------------------------------------------------\u001b[0m",
      "\u001b[1;31mNameError\u001b[0m                                 Traceback (most recent call last)",
      "\u001b[1;32m<ipython-input-178-f93032bf282c>\u001b[0m in \u001b[0;36m<module>\u001b[1;34m\u001b[0m\n\u001b[0;32m      7\u001b[0m \u001b[1;32mfrom\u001b[0m \u001b[0msklearn\u001b[0m\u001b[1;33m.\u001b[0m\u001b[0mutils\u001b[0m \u001b[1;32mimport\u001b[0m \u001b[0mshuffle\u001b[0m\u001b[1;33m\u001b[0m\u001b[1;33m\u001b[0m\u001b[0m\n\u001b[0;32m      8\u001b[0m \u001b[0mX_transformed\u001b[0m\u001b[1;33m=\u001b[0m\u001b[0mX\u001b[0m\u001b[1;33m\u001b[0m\u001b[1;33m\u001b[0m\u001b[0m\n\u001b[1;32m----> 9\u001b[1;33m \u001b[0mX_shuf\u001b[0m\u001b[1;33m,\u001b[0m \u001b[0mY_shuf\u001b[0m \u001b[1;33m=\u001b[0m \u001b[0mshuffle\u001b[0m\u001b[1;33m(\u001b[0m\u001b[0mX_transformed\u001b[0m\u001b[1;33m,\u001b[0m \u001b[0mY\u001b[0m\u001b[1;33m)\u001b[0m\u001b[1;33m\u001b[0m\u001b[1;33m\u001b[0m\u001b[0m\n\u001b[0m\u001b[0;32m     10\u001b[0m \u001b[1;33m\u001b[0m\u001b[0m\n\u001b[0;32m     11\u001b[0m \u001b[1;33m\u001b[0m\u001b[0m\n",
      "\u001b[1;31mNameError\u001b[0m: name 'Y' is not defined"
     ]
    }
   ],
   "source": [
    "import seaborn as sns\n",
    "\n",
    "from sklearn.linear_model import LogisticRegression\n",
    "from sklearn.ensemble import RandomForestClassifier\n",
    "from sklearn.svm import LinearSVC\n",
    "from sklearn.model_selection import cross_val_score\n",
    "from sklearn.utils import shuffle\n",
    "X_transformed=X\n",
    "X_shuf, Y_shuf = shuffle(X_transformed, Y)\n",
    "\n",
    "\n",
    "models = [\n",
    "    RandomForestClassifier(n_estimators=200, max_depth=8, random_state=SEED),\n",
    "    LinearSVC(),\n",
    "    MultinomialNB(),\n",
    "    LogisticRegression(random_state=0, solver='lbfgs'),\n",
    "]\n",
    "CV = 5\n",
    "cv_df = pd.DataFrame(index=range(CV * len(models)))\n",
    "entries = []\n",
    "\n",
    "### Gather all features (X values) and labels (y values) to pass through cross validation\n",
    "features = full_df.drop(target_col, axis=1)\n",
    "labels = df[target_col].values\n",
    "\n",
    "for model in models:\n",
    "    model_name = model.__class__.__name__\n",
    "    accuracies = cross_val_score(model, features, labels, scoring='accuracy', cv=CV)\n",
    "    for fold_idx, accuracy in enumerate(accuracies):\n",
    "        entries.append((model_name, fold_idx, accuracy))\n",
    "cv_df = pd.DataFrame(entries, columns=['model_name', 'fold_idx', 'accuracy'])\n",
    "\n",
    "fig, ax = plt.subplots(figsize=(10, 8))\n",
    "sns.boxplot(x='model_name', y='accuracy', data=cv_df)\n",
    "sns.stripplot(x='model_name', y='accuracy', data=cv_df, \n",
    "              size=8, jitter=True, edgecolor=\"gray\", linewidth=2)\n",
    "plt.show()"
   ]
  },
  {
   "cell_type": "code",
   "execution_count": null,
   "metadata": {},
   "outputs": [],
   "source": []
  }
 ],
 "metadata": {
  "kernelspec": {
   "display_name": "Python 3",
   "language": "python",
   "name": "python3"
  },
  "language_info": {
   "codemirror_mode": {
    "name": "ipython",
    "version": 3
   },
   "file_extension": ".py",
   "mimetype": "text/x-python",
   "name": "python",
   "nbconvert_exporter": "python",
   "pygments_lexer": "ipython3",
   "version": "3.7.3"
  }
 },
 "nbformat": 4,
 "nbformat_minor": 2
}
